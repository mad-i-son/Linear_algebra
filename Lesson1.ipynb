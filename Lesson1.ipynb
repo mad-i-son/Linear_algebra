{
 "cells": [
  {
   "cell_type": "markdown",
   "metadata": {},
   "source": [
    "1. Исследовать на линейную зависимость:\n",
    "\n",
    "$$f_{1}(x)=e^{x}, f_{2}(x)=1, f_{3}(x)=x+1, f_{4}(x)=x-e^{x}.$$"
   ]
  },
  {
   "cell_type": "markdown",
   "metadata": {},
   "source": [
    "Заметим, что  $$f4(x)=f3(x)-f1(x)-f2(x) = x+1 - e^{x} - 1 = x-e^{x}$$ , то есть вектор  f4(x)  — линейная комбинация векторов f1(x), f2(x)  и  f3(x) , из чего можно сделать вывод, что  $$f_{1}(x)=e^{x}, f_{2}(x)=1, f_{3}(x)=x+1, f_{4}(x)=x-e^{x}.$$  линейно зависимы."
   ]
  },
  {
   "cell_type": "markdown",
   "metadata": {},
   "source": [
    "2. Исследовать на линейную зависимость:\n",
    "$$f_{1}(x)=2, f_{2}(x)=x, f_{3}(x)=x^{2}, f_{4}(x)=(x+1)^{2}$$"
   ]
  },
  {
   "cell_type": "markdown",
   "metadata": {},
   "source": [
    "Заметим, что\n",
    "$$𝑓_{4}(𝑥)=𝑓_{3}(𝑥)+2𝑓_{2}(𝑥)+0.5𝑓_{1}(𝑥)=(x+1)^{2}$$\n",
    " \n",
    ", то есть вектор f4(x) — линейная комбинация векторов f1(x), f2(x) и f3(x) , из чего можно сделать вывод, что\n",
    "$$f_{1}(x)=2, f_{2}(x)=x, f_{3}(x)=x^{2}, f_{4}(x)=(x+1)^{2}.$$\n",
    " \n",
    "линейно зависимы."
   ]
  },
  {
   "cell_type": "markdown",
   "metadata": {},
   "source": [
    "__3.__ Найти координаты вектора $x = (2, 3, 5)\\in \\mathbb{R}^{3}$ в базисе $b_{1}=(0, 0, 10)$, $b_{2}=(2, 0, 0)$, $b_{3}=(0, 1, 0)$."
   ]
  },
  {
   "cell_type": "markdown",
   "metadata": {},
   "source": [
    "Стандартный базис линейного пространства $\\mathbb{R}^{3}$ образуют векторы \n",
    "$b_{1}=(0, 0, 10)$, $b_{2}=(2, 0, 0)$, $b_{3}=(0, 1, 0)$.\n",
    "Тогда \n",
    "\n",
    "$$x=(2, 3, 5)=(2,0,0)+(0, 3, 0)+(0, 0, 5)=1\\cdot(2, 0, 0)+3\\cdot(0, 1, 0)+0.5\\cdot(0, 0, 10)=b_{2}+3b_{3}+0.5b_{1},$$\n",
    "\n",
    "\n",
    "то есть координатами вектора $x$ в стандартном базисе являются $0.5$, $1$, $3$."
   ]
  },
  {
   "cell_type": "markdown",
   "metadata": {},
   "source": [
    "4. Найти координаты вектора  3x2−2x+2∈R3[x] :\n",
    "а) в базисе  1 ,  x ,  x2 ;\n",
    "\n",
    "б) в базисе  x2 ,  x−1 ,  1 ."
   ]
  },
  {
   "cell_type": "markdown",
   "metadata": {},
   "source": [
    "а) координатами вектора  𝑥  в стандартном базисе являются  3, -2, 2\n",
    "\n",
    "б) координатами вектора  𝑥  в стандартном базисе являются  3, -2, 0"
   ]
  },
  {
   "cell_type": "markdown",
   "metadata": {},
   "source": [
    "5. Установить, является ли линейным подпространством:\n",
    "а) совокупность всех векторов трехмерного пространства, у которых по крайней мере одна из первых двух координат равна нулю;\n"
   ]
  },
  {
   "cell_type": "markdown",
   "metadata": {},
   "source": [
    "Определим, будут ли являться подпространствами линейного пространства $\\mathbb{R}^{3}$ следующие множества:\n",
    " \n",
    "   а) множество всех векторов вида $(0, a, b) ; (a, 0, b)$;\n",
    "   \n",
    "   б) множество всех векторов вида $\\{u_{1}, u_{2}, \\ldots, u_{n}\\}$$\\{u_{1}, u_{2}, \\ldots, u_{n}\\}$.\n",
    "    \n",
    "__Решение__\n",
    " \n",
    "1. Проведя проверку по приведенному утверждению, мы увидим, что \n",
    " \n",
    "$$(0, a, b)+(0, c, d) = (0, a+c, b+d),$$ $$\\alpha\\cdot (0, a, b) = (0, \\alpha a, \\alpha b).$$\n",
    "\n",
    "$$(a, 0, b)+(c, 0, d) = (a+c, 0, b+d),$$ $$\\alpha\\cdot (a, 0, b) = (\\alpha a, 0, \\alpha b).$$\n",
    " \n",
    " \n",
    "Полученные векторы также принадлежат указанному в задании множеству всех векторов вида $(0, a, b)$ и $(a, 0, b)$, то есть данное множество является подпространством линейного пространства $\\mathbb{R}^{3}$.\n"
   ]
  },
  {
   "cell_type": "markdown",
   "metadata": {},
   "source": [
    "6. Найти скалярное произведение векторов $x, y \\in \\mathbb{R}$:<br>\n",
    "а) $x=(0,-3, 6),~y=(-4, 7, 9);$<br>\n",
    "б) $x=(7, -4, 0, 1),~y=(-3, 1, 11, 2).$\n",
    "\n",
    "\n"
   ]
  },
  {
   "cell_type": "code",
   "execution_count": 1,
   "metadata": {},
   "outputs": [],
   "source": [
    "import numpy as np"
   ]
  },
  {
   "cell_type": "code",
   "execution_count": 2,
   "metadata": {},
   "outputs": [
    {
     "name": "stdout",
     "output_type": "stream",
     "text": [
      "Скалярное произведение a и b:\n",
      "33\n"
     ]
    }
   ],
   "source": [
    "a = np.array([0, -3, 6])\n",
    "b = np.array([-4, 7, 9])\n",
    "print(f'Скалярное произведение a и b:\\n{np.dot(a, b)}')"
   ]
  },
  {
   "cell_type": "code",
   "execution_count": 3,
   "metadata": {},
   "outputs": [
    {
     "name": "stdout",
     "output_type": "stream",
     "text": [
      "Скалярное произведение a и b:\n",
      "-23\n"
     ]
    }
   ],
   "source": [
    "a = np.array([7, -4, 0, 1])\n",
    "b = np.array([-3, 1, 11, 2])\n",
    "print(f'Скалярное произведение a и b:\\n{np.dot(a, b)}')"
   ]
  },
  {
   "cell_type": "markdown",
   "metadata": {},
   "source": [
    "7. Найти нормы L2 векторов $(4, 2, 4)$ и $(12, 3, 4)$ и угол между ними.\n",
    "\n"
   ]
  },
  {
   "cell_type": "code",
   "execution_count": 5,
   "metadata": {},
   "outputs": [],
   "source": [
    "from numpy.linalg import norm"
   ]
  },
  {
   "cell_type": "code",
   "execution_count": 6,
   "metadata": {},
   "outputs": [],
   "source": [
    "a = np.array([4, 2, 4])\n",
    "b = np.array([12, 3, 4])"
   ]
  },
  {
   "cell_type": "code",
   "execution_count": 12,
   "metadata": {},
   "outputs": [
    {
     "name": "stdout",
     "output_type": "stream",
     "text": [
      "l2 Евклидова норма вектора а:\n",
      "6.0\n",
      "l2 Евклидова норма вектора b:\n",
      "13.0\n"
     ]
    }
   ],
   "source": [
    "print(f'l2 Евклидова норма вектора а:\\n{norm(a, ord=2)}')\n",
    "print(f'l2 Евклидова норма вектора b:\\n{norm(b, ord=2)}')"
   ]
  },
  {
   "cell_type": "code",
   "execution_count": 11,
   "metadata": {},
   "outputs": [
    {
     "name": "stdout",
     "output_type": "stream",
     "text": [
      "Угол между векторами:\n",
      "0.8974358974358974\n"
     ]
    }
   ],
   "source": [
    "cos_phi = np.dot(a, b) / norm(a, ord=2) / norm(b, ord=2)\n",
    "cos_phi\n",
    "print(f'Угол между векторами:\\n{cos_phi}')"
   ]
  },
  {
   "cell_type": "markdown",
   "metadata": {},
   "source": [
    "8. Будет ли линейное пространство евклидовым, если за скалярное произведение принять:<br>\n",
    "а) произведение длин векторов;<br>\n",
    "б) утроенное обычное скалярное произведение векторов?<br>\n",
    "      \n",
    " "
   ]
  },
  {
   "cell_type": "markdown",
   "metadata": {},
   "source": [
    "Примером евклидова пространства будет выступать $n$-мерное линейное пространство $\\mathbb{R}^{n}$ упорядоченных совокупностей $n$ вещественных чисел, скалярное произведение векторов $x=(a_{1},a_{2},...,a_{n})$ и $y=(b_{1},b_{2},...,b_{n})$ на котором определено как\n",
    "\n",
    "$$(x,y)=a_{1}b_{1}+a_{2}b_{2}+...+a_{n}b_{n}.$$"
   ]
  },
  {
   "cell_type": "markdown",
   "metadata": {},
   "source": [
    "б) $(\\lambda x, y)=\\lambda(x, y);$<br>\n",
    "$$3 * (x,y)=3a_{1}b_{1}+3a_{2}b_{2}+...+3a_{n}b_{n}.$$"
   ]
  },
  {
   "cell_type": "markdown",
   "metadata": {},
   "source": [
    "9. Какие из нижеперечисленных векторов образуют ортонормированный базис в линейном пространстве $\\mathbb{R}^{3}$:<br>\n",
    "а) $(1,0,0),(0,0,1);$ <br>\n",
    "б) $(1/\\sqrt{2},-1/\\sqrt{2},0),(1/\\sqrt{2},1/\\sqrt{2},0), (0,0,1);$<br>\n",
    "в) $(1/2, -1/2, 0), (0, 1/2, 1/2), (0,0,1);$<br>\n",
    "г) $(1,0,0),(0,1,0),(0,0,1)?$"
   ]
  },
  {
   "cell_type": "code",
   "execution_count": 21,
   "metadata": {},
   "outputs": [
    {
     "name": "stdout",
     "output_type": "stream",
     "text": [
      "Скалярное произведение a и b:\n",
      "0\n"
     ]
    }
   ],
   "source": [
    "a = np.array([1, 0, 0])\n",
    "b = np.array([0, 0, 1])\n",
    "print(f'Скалярное произведение a и b:\\n{np.dot(a, b)}')"
   ]
  },
  {
   "cell_type": "code",
   "execution_count": 22,
   "metadata": {},
   "outputs": [
    {
     "name": "stdout",
     "output_type": "stream",
     "text": [
      "Угол между векторами:\n",
      "0.0\n"
     ]
    }
   ],
   "source": [
    "cos_phi = np.dot(a, b) / norm(a, ord=2) / norm(b, ord=2)\n",
    "print(f'Угол между векторами a и b:\\n{cos_phi}')"
   ]
  },
  {
   "cell_type": "code",
   "execution_count": 28,
   "metadata": {},
   "outputs": [
    {
     "name": "stdout",
     "output_type": "stream",
     "text": [
      "Скалярное произведение a и b:\n",
      "0.0\n",
      "Скалярное произведение a и c:\n",
      "0.0\n",
      "Скалярное произведение b и c:\n",
      "0.0\n"
     ]
    }
   ],
   "source": [
    "a = np.array([1/np.sqrt(2), -1/np.sqrt(2), 0])\n",
    "b = np.array([1/np.sqrt(2), 1/np.sqrt(2), 0])\n",
    "c = np.array([0, 0, 1])\n",
    "print(f'Скалярное произведение a и b:\\n{np.dot(a, b)}')\n",
    "print(f'Скалярное произведение a и c:\\n{np.dot(a, c)}')\n",
    "print(f'Скалярное произведение b и c:\\n{np.dot(b, c)}')"
   ]
  },
  {
   "cell_type": "code",
   "execution_count": 24,
   "metadata": {},
   "outputs": [
    {
     "name": "stdout",
     "output_type": "stream",
     "text": [
      "Угол между векторами:\n",
      "0.0\n"
     ]
    }
   ],
   "source": [
    "cos_phi = np.dot(a, b) / norm(a, ord=2) / norm(b, ord=2)\n",
    "print(f'Угол между векторами a и b:\\n{cos_phi}')"
   ]
  },
  {
   "cell_type": "code",
   "execution_count": 30,
   "metadata": {},
   "outputs": [
    {
     "name": "stdout",
     "output_type": "stream",
     "text": [
      "Угол между векторами a и с:\n",
      "0.0\n"
     ]
    }
   ],
   "source": [
    "cos_phi = np.dot(a, c) / norm(a, ord=2) / norm(c, ord=2)\n",
    "print(f'Угол между векторами a и с:\\n{cos_phi}')"
   ]
  },
  {
   "cell_type": "code",
   "execution_count": 31,
   "metadata": {},
   "outputs": [
    {
     "name": "stdout",
     "output_type": "stream",
     "text": [
      "Угол между векторами b и с:\n",
      "0.0\n"
     ]
    }
   ],
   "source": [
    "cos_phi = np.dot(b, c) / norm(b, ord=2) / norm(c, ord=2)\n",
    "print(f'Угол между векторами b и с:\\n{cos_phi}')"
   ]
  },
  {
   "cell_type": "code",
   "execution_count": 32,
   "metadata": {},
   "outputs": [
    {
     "name": "stdout",
     "output_type": "stream",
     "text": [
      "Скалярное произведение a и b:\n",
      "-0.25\n",
      "Скалярное произведение a и c:\n",
      "0.0\n",
      "Скалярное произведение b и c:\n",
      "0.5\n"
     ]
    }
   ],
   "source": [
    "a = np.array([1/2, -1/2, 0])\n",
    "b = np.array([0, 1/2, 1/2])\n",
    "c = np.array([0, 0, 1])\n",
    "print(f'Скалярное произведение a и b:\\n{np.dot(a, b)}')\n",
    "print(f'Скалярное произведение a и c:\\n{np.dot(a, c)}')\n",
    "print(f'Скалярное произведение b и c:\\n{np.dot(b, c)}')"
   ]
  },
  {
   "cell_type": "code",
   "execution_count": 33,
   "metadata": {},
   "outputs": [
    {
     "name": "stdout",
     "output_type": "stream",
     "text": [
      "Скалярное произведение a и b:\n",
      "0\n",
      "Скалярное произведение a и c:\n",
      "0\n",
      "Скалярное произведение b и c:\n",
      "0\n"
     ]
    }
   ],
   "source": [
    "a = np.array([1, 0, 0])\n",
    "b = np.array([0, 1, 0])\n",
    "c = np.array([0, 0, 1])\n",
    "print(f'Скалярное произведение a и b:\\n{np.dot(a, b)}')\n",
    "print(f'Скалярное произведение a и c:\\n{np.dot(a, c)}')\n",
    "print(f'Скалярное произведение b и c:\\n{np.dot(b, c)}')"
   ]
  },
  {
   "cell_type": "code",
   "execution_count": 34,
   "metadata": {},
   "outputs": [
    {
     "name": "stdout",
     "output_type": "stream",
     "text": [
      "Угол между векторами a и b:\n",
      "0.0\n",
      "Угол между векторами a и с:\n",
      "0.0\n",
      "Угол между векторами b и с:\n",
      "0.0\n"
     ]
    }
   ],
   "source": [
    "cos_phi = np.dot(a, b) / norm(a, ord=2) / norm(b, ord=2)\n",
    "print(f'Угол между векторами a и b:\\n{cos_phi}')\n",
    "cos_phi = np.dot(a, c) / norm(a, ord=2) / norm(c, ord=2)\n",
    "print(f'Угол между векторами a и с:\\n{cos_phi}')\n",
    "cos_phi = np.dot(b, c) / norm(b, ord=2) / norm(c, ord=2)\n",
    "print(f'Угол между векторами b и с:\\n{cos_phi}')"
   ]
  },
  {
   "cell_type": "markdown",
   "metadata": {},
   "source": [
    "вектора образуют ортонормированный базис в линейном пространстве  ℝ3 : в арианте а, б, г"
   ]
  }
 ],
 "metadata": {
  "kernelspec": {
   "display_name": "Python 3",
   "language": "python",
   "name": "python3"
  },
  "language_info": {
   "codemirror_mode": {
    "name": "ipython",
    "version": 3
   },
   "file_extension": ".py",
   "mimetype": "text/x-python",
   "name": "python",
   "nbconvert_exporter": "python",
   "pygments_lexer": "ipython3",
   "version": "3.7.6"
  }
 },
 "nbformat": 4,
 "nbformat_minor": 4
}
