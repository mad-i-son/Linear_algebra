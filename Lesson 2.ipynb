{
 "cells": [
  {
   "cell_type": "markdown",
   "metadata": {},
   "source": [
    "Все задания рекомендуется делать вручную, затем проверяя полученные результаты с использованием numpy.\n",
    "\n",
    "__1.__ Установить, какие произведения матриц $AB$ и $BA$ определены, и найти размерности полученных матриц:\n",
    "\n",
    "   а) $A$ — матрица $4\\times 2$, $B$ — матрица $4\\times 2$;\n",
    "    \n",
    "   б) $A$ — матрица $2\\times 5$, $B$ — матрица $5\\times 3$;\n",
    "    \n",
    "   в) $A$ — матрица $8\\times 3$, $B$ — матрица $3\\times 8$;\n",
    "    \n",
    "   г) $A$ — квадратная матрица $4\\times 4$, $B$ — квадратная матрица $4\\times 4$.\n",
    "    \n",
    "__2.__ Найти сумму и произведение матриц $A=\\begin{pmatrix}\n",
    "1 & -2\\\\ \n",
    "3 & 0\n",
    "\\end{pmatrix}$ и $B=\\begin{pmatrix}\n",
    "4 & -1\\\\ \n",
    "0 & 5\n",
    "\\end{pmatrix}.$\n",
    "\n",
    "__3.__ Из закономерностей сложения и умножения матриц на число можно сделать вывод, что матрицы одного размера образуют линейное пространство. Вычислить линейную комбинацию $3A-2B+4C$ для матриц $A=\\begin{pmatrix}\n",
    "1 & 7\\\\ \n",
    "3 & -6\n",
    "\\end{pmatrix}$, $B=\\begin{pmatrix}\n",
    "0 & 5\\\\ \n",
    "2 & -1\n",
    "\\end{pmatrix}$, $C=\\begin{pmatrix}\n",
    "2 & -4\\\\ \n",
    "1 & 1\n",
    "\\end{pmatrix}.$\n",
    "    \n",
    "__4.__ Дана матрица $A=\\begin{pmatrix}\n",
    "4 & 1\\\\ \n",
    "5 & -2\\\\ \n",
    "2 & 3\n",
    "\\end{pmatrix}$.\n",
    "Вычислить $AA^{T}$ и $A^{T}A$.\n",
    "\n",
    "__5*.__ Написать на Python функцию для перемножения двух произвольных матриц, не используя NumPy."
   ]
  },
  {
   "cell_type": "markdown",
   "metadata": {},
   "source": [
    "1. Установить, какие произведения матриц  𝐴𝐵  и  𝐵𝐴  определены, и найти размерности полученных матриц:\n",
    "\n",
    "а)  𝐴  — матрица  4×2 ,  𝐵  — матрица  4×2 ;\n",
    "\n",
    "б)  𝐴  — матрица  2×5 ,  𝐵  — матрица  5×3 ;\n",
    "\n",
    "в)  𝐴  — матрица  8×3 ,  𝐵  — матрица  3×8 ;\n",
    "\n",
    "г)  𝐴  — квадратная матрица  4×4 ,  𝐵  — квадратная матрица  4×4 ."
   ]
  },
  {
   "cell_type": "markdown",
   "metadata": {},
   "source": [
    "В частности, определить оба произведения  A⋅B  и  B⋅A  можно только в случае, когда число столбцов  A  совпадает с числом строк  B , а число строк  A  совпадает с числом столбцов  B . В этом случае матрицы  A⋅B  и  B⋅A  будут квадратными. Их порядок в общем случае будет различным и будет совпадать только в случае квадратных матриц  A  и  B .\n",
    "\n",
    "Под данное определение попадает вариант г) 𝐴 — квадратная матрица 4×4 , 𝐵 — квадратная матрица 4×4 . Итоговая матрица будет 4x4\n",
    "\n",
    "\n",
    "Если же не учитывать определенности двух матриц, то для вараинта б) проиведение матриц BA даст новую матрицу 5x5 ; в) произведение матриц AB даст матрицу 8x8 , а происзвдение матриц BA даст матрицу 3x3"
   ]
  },
  {
   "cell_type": "markdown",
   "metadata": {},
   "source": [
    "2.__ Найти сумму и произведение матриц $A=\\begin{pmatrix}\n",
    "1 & -2\\\\ \n",
    "3 & 0\n",
    "\\end{pmatrix}$ и $B=\\begin{pmatrix}\n",
    "4 & -1\\\\ \n",
    "0 & 5\n",
    "\\end{pmatrix}.$"
   ]
  },
  {
   "cell_type": "markdown",
   "metadata": {},
   "source": [
    "Сложим матрицы\n",
    "\n",
    "$$\\begin{pmatrix}\n",
    "1 & -2\\\\ \n",
    "3 & 0\n",
    "\\end{pmatrix} + \\begin{pmatrix}\n",
    "4 & -1\\\\ \n",
    "0 & 5 \n",
    "\\end{pmatrix} = \\begin{pmatrix}\n",
    "5 & -3\\\\ \n",
    "3 & 5 \n",
    "\\end{pmatrix}.$$"
   ]
  },
  {
   "cell_type": "markdown",
   "metadata": {},
   "source": [
    "Перемножим матрицы \n",
    "\n",
    "$$A=\\begin{pmatrix}\n",
    "1 & -2\\\\ \n",
    "3 & 0\n",
    "\\end{pmatrix} \\; и \\; B=\\begin{pmatrix}\n",
    "4 & -1\\\\ \n",
    "0 & 5\n",
    "\\end{pmatrix}.$$\n",
    "\n",
    "$$A\\cdot B=\\begin{pmatrix}\n",
    "1\\cdot4-2\\cdot0 & 1\\cdot-1-2\\cdot5\\\\ \n",
    "3\\cdot4+0\\cdot0 & 3\\cdot-1+0\\cdot5\n",
    "\\end{pmatrix}=\\begin{pmatrix}\n",
    "4 & -11\\\\ \n",
    "12 & -3\n",
    "\\end{pmatrix}.$$"
   ]
  },
  {
   "cell_type": "code",
   "execution_count": 25,
   "metadata": {},
   "outputs": [],
   "source": [
    "import numpy as np"
   ]
  },
  {
   "cell_type": "code",
   "execution_count": 26,
   "metadata": {},
   "outputs": [
    {
     "name": "stdout",
     "output_type": "stream",
     "text": [
      "Матрица A\n",
      "[[ 1 -2]\n",
      " [ 3  0]]\n",
      "\n",
      "Матрица B\n",
      "[[ 4 -1]\n",
      " [ 0  5]]\n",
      "\n",
      "Матрица С = A + B\n",
      "[[ 5 -3]\n",
      " [ 3  5]]\n",
      "Матрица AB\n",
      "[[  4 -11]\n",
      " [ 12  -3]]\n"
     ]
    }
   ],
   "source": [
    "a = np.array([[1,-2],[3,0]])\n",
    "b = np.array([[4,-1],[0,5]])\n",
    "\n",
    "print(f'Матрица A\\n{a}\\n')\n",
    "print(f'Матрица B\\n{b}\\n')\n",
    "print(f'Матрица С = A + B\\n{a + b}')\n",
    "print(f'Матрица AB\\n{a.dot(b)}')"
   ]
  },
  {
   "cell_type": "markdown",
   "metadata": {},
   "source": [
    "3.__ Из закономерностей сложения и умножения матриц на число можно сделать вывод, что матрицы одного размера образуют линейное пространство. Вычислить линейную комбинацию $3A-2B+4C$ для матриц $A=\\begin{pmatrix}\n",
    "1 & 7\\\\ \n",
    "3 & -6\n",
    "\\end{pmatrix}$, $B=\\begin{pmatrix}\n",
    "0 & 5\\\\ \n",
    "2 & -1\n",
    "\\end{pmatrix}$, $C=\\begin{pmatrix}\n",
    "2 & -4\\\\ \n",
    "1 & 1\n",
    "\\end{pmatrix}.$"
   ]
  },
  {
   "cell_type": "markdown",
   "metadata": {},
   "source": [
    "$$3\\cdot\\begin{pmatrix}\n",
    "1 & 7\\\\ \n",
    "3 & -6\n",
    "\\end{pmatrix} \n",
    "-2\\cdot\\begin{pmatrix}\n",
    "0 & 5\\\\ \n",
    "2 & -1 \n",
    "\\end{pmatrix} \n",
    "+4\\cdot\\begin{pmatrix}\n",
    "2 & -4\\\\ \n",
    "1 & 1\n",
    "\\end{pmatrix} = \\begin{pmatrix}\n",
    "3 & 21\\\\ \n",
    "9 & -18\n",
    "\\end{pmatrix} \n",
    "+\\begin{pmatrix}\n",
    "0 & -10\\\\ \n",
    "-4 & 2 \n",
    "\\end{pmatrix} \n",
    "+\\begin{pmatrix}\n",
    "8 & -16\\\\ \n",
    "4 & 4\n",
    "\\end{pmatrix} = \\begin{pmatrix}\n",
    "11 & -5\\\\ \n",
    "9 & -12\n",
    "\\end{pmatrix}.$$"
   ]
  },
  {
   "cell_type": "code",
   "execution_count": 27,
   "metadata": {},
   "outputs": [
    {
     "name": "stdout",
     "output_type": "stream",
     "text": [
      "Матрица А\n",
      "[[ 1  7]\n",
      " [ 3 -6]]\n",
      "\n",
      "Матрица B\n",
      "[[ 0  5]\n",
      " [ 2 -1]]\n",
      "\n",
      "Матрица C\n",
      "[[ 2 -4]\n",
      " [ 1  1]]\n",
      "\n",
      "Матрица 3*А\n",
      "[[  3  21]\n",
      " [  9 -18]]\n",
      "Матрица -2*B\n",
      "[[  0 -10]\n",
      " [ -4   2]]\n",
      "Матрица 4*C\n",
      "[[  8 -16]\n",
      " [  4   4]]\n",
      "Итоговая матрица \n",
      "[[ 11  -5]\n",
      " [  9 -12]]\n"
     ]
    }
   ],
   "source": [
    "a = np.array([[1, 7], [3, -6]])\n",
    "b = np.array([[0, 5], [2, -1]])\n",
    "c = np.array([[2, -4], [1, 1]])\n",
    "\n",
    "print(f'Матрица А\\n{a}\\n')\n",
    "print(f'Матрица B\\n{b}\\n')\n",
    "print(f'Матрица C\\n{c}\\n')\n",
    "print(f'Матрица 3*А\\n{3 * a}')\n",
    "print(f'Матрица -2*B\\n{-2 * b}')\n",
    "print(f'Матрица 4*C\\n{4 * c}')\n",
    "print(f'Итоговая матрица \\n{(3 * a)+(-2 * b)+(4 * c)}')"
   ]
  },
  {
   "cell_type": "markdown",
   "metadata": {},
   "source": [
    "_4.__ Дана матрица $A=\\begin{pmatrix}\n",
    "4 & 1\\\\ \n",
    "5 & -2\\\\ \n",
    "2 & 3\n",
    "\\end{pmatrix}$.\n",
    "Вычислить $AA^{T}$ и $A^{T}A$."
   ]
  },
  {
   "cell_type": "markdown",
   "metadata": {},
   "source": [
    "$$A=\\begin{pmatrix}\n",
    "4 & 1\\\\ \n",
    "5 & -2\\\\ \n",
    "2 & 3\n",
    "\\end{pmatrix}, \\;A^{T}=\\begin{pmatrix}\n",
    "4 & 5 & 2\\\\ \n",
    "1 & -2 & 3 \n",
    "\\end{pmatrix}.$$"
   ]
  },
  {
   "cell_type": "markdown",
   "metadata": {},
   "source": [
    "$$A\\cdot A^{T}=\\begin{pmatrix}\n",
    "4\\cdot4+1\\cdot1 & 4\\cdot5+1\\cdot-2 & 4\\cdot2+1\\cdot3\\\\ \n",
    "5\\cdot4-2\\cdot1 & 5\\cdot5-2\\cdot-2 & 5\\cdot2-2\\cdot3\\\\\n",
    "2\\cdot4+3\\cdot1 & 2\\cdot5+3\\cdot-2 & 2\\cdot2+3\\cdot3\n",
    "\\end{pmatrix}=\\begin{pmatrix}\n",
    "17 & 18 & 11\\\\ \n",
    "18 & 29 & 4\\\\\n",
    "11 & 4 & 13\n",
    "\\end{pmatrix}.$$"
   ]
  },
  {
   "cell_type": "markdown",
   "metadata": {},
   "source": [
    "$$A^{T}\\cdot A=\\begin{pmatrix}\n",
    "4\\cdot4+5\\cdot5+2\\cdot2 & 4\\cdot1+5\\cdot-2+2\\cdot3\\\\ \n",
    "1\\cdot4-2\\cdot5+3\\cdot2 & 1\\cdot1-2\\cdot-2+3\\cdot3\n",
    "\\end{pmatrix}=\\begin{pmatrix}\n",
    "45 & 0\\\\ \n",
    "0 & 14\n",
    "\\end{pmatrix}.$$"
   ]
  },
  {
   "cell_type": "code",
   "execution_count": 28,
   "metadata": {},
   "outputs": [
    {
     "name": "stdout",
     "output_type": "stream",
     "text": [
      "Матрица А\n",
      "[[ 4  1]\n",
      " [ 5 -2]\n",
      " [ 2  3]]\n",
      "\n",
      "Матрица A транпонированная\n",
      "[[ 4  5  2]\n",
      " [ 1 -2  3]]\n",
      "\n",
      "Матрица A*A транпонированная\n",
      "[[17 18 11]\n",
      " [18 29  4]\n",
      " [11  4 13]]\n",
      "Матрица A транпонированная * A\n",
      "[[45  0]\n",
      " [ 0 14]]\n"
     ]
    }
   ],
   "source": [
    "a = np.array([[4, 1], [5, -2], [2, 3]])\n",
    "at = a.T\n",
    "\n",
    "print(f'Матрица А\\n{a}\\n')\n",
    "print(f'Матрица A транпонированная\\n{at}\\n')\n",
    "print(f'Матрица A*A транпонированная\\n{a.dot(at)}')\n",
    "print(f'Матрица A транпонированная * A\\n{at.dot(a)}')"
   ]
  },
  {
   "cell_type": "markdown",
   "metadata": {},
   "source": [
    "__5*.__ Написать на Python функцию для перемножения двух произвольных матриц, не используя NumPy."
   ]
  },
  {
   "cell_type": "markdown",
   "metadata": {},
   "source": [
    "#m1 = input('Введите число строк 1 матрицы')\n",
    "#n1 = input('Введите число столбцов 1 матрицы')\n",
    "#m2 = input('Введите число строк 2 матрицы: ')\n",
    "#n2 = input('Введите число столбцов 2 матрицы: ')\n",
    "#print(f'У нас будут представлены матрицы {m1}x{n1} и {m2}x{n2}')\n",
    "#n1 = 2\n",
    "#m1 = 2\n",
    "#scalar_proinv = 0\n",
    "#matr_proizv = []\n",
    "#if n1 == m1:\n",
    "#    for ind, vector in matr1:\n",
    "#        for ind2, elm in vector:\n",
    "#            scalar_proinv += elm * matr2[ind][ind2]\n",
    "#        matr_proizv.append(scalar_proizv)\n",
    "    \n",
    "#    строка из первой матрицы определеят строку элемента\n",
    "#    колонка второй матрицы определяет колонку элемента\n"
   ]
  },
  {
   "cell_type": "markdown",
   "metadata": {},
   "source": [
    "Все задания рекомендуется выполнять вручную, затем проверяя полученные результаты с использованием Numpy.\n",
    "\n",
    "__1.__ Вычислить определитель:\n",
    "\n",
    "   a)\n",
    "\n",
    "$$\\begin{vmatrix}\n",
    "sinx & -cosx\\\\ \n",
    "cosx & sinx\n",
    "\\end{vmatrix};$$\n",
    "\n",
    "   б)\n",
    "    \n",
    "$$\\begin{vmatrix}\n",
    "4 & 2 & 3\\\\ \n",
    "0 & 5 & 1\\\\ \n",
    "0 & 0 & 9\n",
    "\\end{vmatrix};$$\n",
    "    \n",
    "   в)\n",
    "\n",
    "$$\\begin{vmatrix}\n",
    "1 & 2 & 3\\\\ \n",
    "4 & 5 & 6\\\\ \n",
    "7 & 8 & 9\n",
    "\\end{vmatrix}.$$\n",
    "\n",
    "\n",
    "__2.__ Определитель матрицы $A$ равен $4$. Найти:\n",
    "\n",
    "   а) $det(A^{2})$;\n",
    "    \n",
    "   б) $det(A^{T})$;\n",
    "    \n",
    "   в) $det(2A)$.\n",
    "   \n",
    "__3.__  Доказать, что матрица\n",
    "\n",
    "$$\\begin{pmatrix}\n",
    "-2 & 7 & -3\\\\ \n",
    "4 & -14 & 6\\\\ \n",
    "-3 & 7 & 13\n",
    "\\end{pmatrix}$$\n",
    "   \n",
    "вырожденная.\n",
    "\n",
    "__4.__ Найти ранг матрицы:\n",
    "\n",
    "   а) $\\begin{pmatrix}\n",
    "1 & 2 & 3\\\\ \n",
    "1 & 1 & 1\\\\ \n",
    "2 & 3 & 4\n",
    "\\end{pmatrix};$\n",
    "\n",
    "   б) $\\begin{pmatrix}\n",
    "0 & 0 & 2 & 1\\\\ \n",
    "0 & 0 & 2 & 2\\\\ \n",
    "0 & 0 & 4 & 3\\\\ \n",
    "2 & 3 & 5 & 6\n",
    "\\end{pmatrix}.$"
   ]
  },
  {
   "cell_type": "markdown",
   "metadata": {},
   "source": [
    "1.__ Вычислить определитель:\n",
    "\n",
    "   a)\n",
    "\n",
    "$$\\begin{vmatrix}\n",
    "sinx & -cosx\\\\ \n",
    "cosx & sinx\n",
    "\\end{vmatrix};$$\n",
    "\n",
    "   б)\n",
    "    \n",
    "$$\\begin{vmatrix}\n",
    "4 & 2 & 3\\\\ \n",
    "0 & 5 & 1\\\\ \n",
    "0 & 0 & 9\n",
    "\\end{vmatrix};$$\n",
    "    \n",
    "   в)\n",
    "\n",
    "$$\\begin{vmatrix}\n",
    "1 & 2 & 3\\\\ \n",
    "4 & 5 & 6\\\\ \n",
    "7 & 8 & 9\n",
    "\\end{vmatrix}.$$"
   ]
  },
  {
   "cell_type": "markdown",
   "metadata": {},
   "source": [
    "а) Если x = 0\n",
    "(sin x * sin x) - (-cos x * cos x) = 0 * 1 - (-1*1) = 1\n",
    "\n",
    "б) $$\\begin{vmatrix}\n",
    "4 & 2 & 3 \\\\ \n",
    "0 & 5 & 1 \\\\  \n",
    "0 & 0 & 9\\\\ \n",
    "\\end{vmatrix} = 4\\cdot(5\\cdot9-1\\cdot0) - 2\\cdot(0\\cdot9 - 1\\cdot0) + 3\\cdot(0\\cdot0-5\\cdot0)= 180$$\n",
    "\n",
    "в) $$\\begin{vmatrix}\n",
    "1 & 2 & 3 \\\\ \n",
    "4 & 5 & 6 \\\\  \n",
    "7 & 8 & 9\\\\ \n",
    "\\end{vmatrix} = 1\\cdot(5\\cdot9-6\\cdot8) - 2\\cdot(4\\cdot9 - 6\\cdot7) + 3\\cdot(4\\cdot8-5\\cdot7)= 0$$"
   ]
  },
  {
   "cell_type": "code",
   "execution_count": 29,
   "metadata": {},
   "outputs": [],
   "source": [
    "import scipy.linalg"
   ]
  },
  {
   "cell_type": "code",
   "execution_count": 30,
   "metadata": {},
   "outputs": [
    {
     "name": "stdout",
     "output_type": "stream",
     "text": [
      "Матрица:\n",
      "[[ 0. -1.]\n",
      " [ 1.  0.]]\n",
      "Матрица:\n",
      "[[4 2 3]\n",
      " [0 5 1]\n",
      " [0 0 9]]\n",
      "Матрица:\n",
      "[[1 2 3]\n",
      " [4 5 6]\n",
      " [7 8 9]]\n",
      "Определитель:\n",
      "1\n",
      "Определитель:\n",
      "180\n",
      "Определитель:\n",
      "0\n"
     ]
    }
   ],
   "source": [
    "x = 0\n",
    "a = np.array([[np.sin(x), -np.cos(x)], [np.cos(x), np.sin(x)]])\n",
    "b = np.array([[4, 2, 3], [0, 5, 1], [0, 0, 9]])\n",
    "c = np.array([[1, 2, 3], [4, 5, 6], [7, 8, 9]])\n",
    "print(f'Матрица:\\n{a}')\n",
    "print(f'Матрица:\\n{b}')\n",
    "print(f'Матрица:\\n{c}')\n",
    "print(f'Определитель:\\n{np.linalg.det(a):.0f}')\n",
    "print(f'Определитель:\\n{np.linalg.det(b):.0f}')\n",
    "print(f'Определитель:\\n{np.linalg.det(c):.0f}')"
   ]
  },
  {
   "cell_type": "markdown",
   "metadata": {},
   "source": [
    "2.__ Определитель матрицы $A$ равен $4$. Найти:\n",
    "\n",
    "   а) $det(A^{2})$;\n",
    "    \n",
    "   б) $det(A^{T})$;\n",
    "    \n",
    "   в) $det(2A)$."
   ]
  },
  {
   "cell_type": "markdown",
   "metadata": {},
   "source": [
    "а)  $det(A^{2})= 16$;\n",
    "\n",
    "б)  $$detA^{T}=detA=4.$$\n",
    "\n",
    "в)  Если все элементы строки (столбца) умножить на одно и тоже число, то определитель умножится на это число. 𝑑𝑒𝑡(2𝐴) = 8 ."
   ]
  },
  {
   "cell_type": "markdown",
   "metadata": {},
   "source": [
    "3.__  Доказать, что матрица\n",
    "\n",
    "$$\\begin{pmatrix}\n",
    "-2 & 7 & -3\\\\ \n",
    "4 & -14 & 6\\\\ \n",
    "-3 & 7 & 13\n",
    "\\end{pmatrix}$$\n",
    "   \n",
    "вырожденная."
   ]
  },
  {
   "cell_type": "markdown",
   "metadata": {},
   "source": [
    "Матрица называется сингулярной, или вырожденной, если ее определитель равен нулю.\n",
    "\n",
    "$$\\begin{vmatrix}\n",
    "-2 & 7 & -3 \\\\ \n",
    "4 & -14 & 6 \\\\  \n",
    "-3 & 7 & 13\\\\ \n",
    "\\end{vmatrix} = -2\\cdot(-14\\cdot13-6\\cdot7)) - 7\\cdot(4\\cdot13 - 6\\cdot-3) + 3\\cdot(4\\cdot7-(-14\\cdot-3))= 0$$"
   ]
  },
  {
   "cell_type": "code",
   "execution_count": 31,
   "metadata": {},
   "outputs": [
    {
     "name": "stdout",
     "output_type": "stream",
     "text": [
      "Матрица:\n",
      "[[ -2   7  -3]\n",
      " [  4 -14   6]\n",
      " [ -3   7  13]]\n",
      "Определитель:\n",
      "0\n"
     ]
    }
   ],
   "source": [
    "a = np.array([[-2, 7, -3], [4, -14, 6], [-3, 7, 13]])\n",
    "print(f'Матрица:\\n{a}')\n",
    "print(f'Определитель:\\n{np.linalg.det(a):.0f}')"
   ]
  },
  {
   "cell_type": "markdown",
   "metadata": {},
   "source": [
    "4.__ Найти ранг матрицы:\n",
    "\n",
    "   а) $\\begin{pmatrix}\n",
    "1 & 2 & 3\\\\ \n",
    "1 & 1 & 1\\\\ \n",
    "2 & 3 & 4\n",
    "\\end{pmatrix};$\n",
    "\n",
    "   б) $\\begin{pmatrix}\n",
    "0 & 0 & 2 & 1\\\\ \n",
    "0 & 0 & 2 & 2\\\\ \n",
    "0 & 0 & 4 & 3\\\\ \n",
    "2 & 3 & 5 & 6\n",
    "\\end{pmatrix}.$"
   ]
  },
  {
   "cell_type": "markdown",
   "metadata": {},
   "source": [
    "а) вычтем из 2 и 3 строки 1 усноженную на 1 и на 2 соответсвенно\n",
    "\n",
    "$$\\begin{pmatrix}\n",
    "1 & 2 & 3\\\\ \n",
    "0 & -1 & -2\\\\ \n",
    "0 & -1 & -2\n",
    "\\end{pmatrix}.$$\n",
    "\n",
    "Если домножить 2 строку -1 и рибавить её к 3 строке то полуим матрицу ранг которой равен 2\n",
    "\n",
    "$$\\begin{pmatrix}\n",
    "1 & 2 & 3\\\\ \n",
    "0 & -1 & -2\n",
    "\\end{pmatrix}.$$\n",
    "\n",
    "б) Поскольку в матрице есть ненулевые элементы, то её ранг не менее 1. В матрице четыре строки и четыре столбца. Минимальная размерность – четыре, следовательно, ранг данной матрицы заведомо не превзойдёт 4.\n",
    "\n",
    "Проверку миноров 2-го порядка начинаем с так называемого углового минора\n",
    "$$\\begin{vmatrix}\n",
    "0 & 0  \\\\ \n",
    "0 & 0 \n",
    "\\end{vmatrix} = 0$$\n",
    "\n",
    "$$\\begin{vmatrix}\n",
    "0 & 2  \\\\ \n",
    "0 & 2 \n",
    "\\end{vmatrix} = 0$$\n",
    "\n",
    "$$\\begin{vmatrix}\n",
    "0 & 1  \\\\ \n",
    "0 & 2 \n",
    "\\end{vmatrix} = 0$$\n",
    "\n",
    "$$\\begin{vmatrix}\n",
    "0 & 2  \\\\ \n",
    "0 & 2 \n",
    "\\end{vmatrix} = 0$$\n",
    "\n",
    "$$\\begin{vmatrix}\n",
    "2 & 1  \\\\ \n",
    "2 & 2 \n",
    "\\end{vmatrix} = 4 - 2 = 2$$   не равен нулю значит, ранг матрицы не менее двух.\n",
    "\n",
    "\n",
    "$$\\begin{vmatrix}\n",
    "0 & 2 & 1 \\\\ \n",
    "0 & 2 & 2\\\\\n",
    "0 & 4 & 3\n",
    "\\end{vmatrix} = 3 * \\begin{vmatrix}\n",
    "0 & 2\\\\ \n",
    "0 & 2\n",
    "\\end{vmatrix} + \n",
    "\\begin{vmatrix}\n",
    "0 & 2\\\\ \n",
    "0 & 4\n",
    "\\end{vmatrix} = 0 $$\n",
    "\n",
    "\n",
    "ранг матрицы два.\n"
   ]
  },
  {
   "cell_type": "code",
   "execution_count": 32,
   "metadata": {},
   "outputs": [
    {
     "name": "stdout",
     "output_type": "stream",
     "text": [
      "Ранг матрицы A: 2\n",
      "Ранг матрицы B: 2\n",
      "Ранг матрицы B: 2\n"
     ]
    }
   ],
   "source": [
    "a = np.array([[1, 2, 3], [1, 1, 1], [2, 3, 4]])\n",
    "b = np.array([[0, 0, 2, 1], [0, 0, 2, 2], [0, 0, 4, 3], [2, 3, 5, 6]])\n",
    "с =  np.array([[1, 2, 3]])\n",
    "ra = np.linalg.matrix_rank(a)\n",
    "rb = np.linalg.matrix_rank(b)\n",
    "rc = np.linalg.matrix_rank(c)\n",
    "print(f'Ранг матрицы A: {ra}')\n",
    "print(f'Ранг матрицы B: {ra}')\n",
    "print(f'Ранг матрицы B: {rc}')"
   ]
  }
 ],
 "metadata": {
  "kernelspec": {
   "display_name": "Python 3",
   "language": "python",
   "name": "python3"
  },
  "language_info": {
   "codemirror_mode": {
    "name": "ipython",
    "version": 3
   },
   "file_extension": ".py",
   "mimetype": "text/x-python",
   "name": "python",
   "nbconvert_exporter": "python",
   "pygments_lexer": "ipython3",
   "version": "3.7.6"
  }
 },
 "nbformat": 4,
 "nbformat_minor": 4
}
